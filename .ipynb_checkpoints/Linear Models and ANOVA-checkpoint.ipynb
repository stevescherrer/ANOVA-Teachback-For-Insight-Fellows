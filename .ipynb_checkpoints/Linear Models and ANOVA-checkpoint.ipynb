{
 "cells": [
  {
   "cell_type": "markdown",
   "metadata": {},
   "source": [
    "# Demystifying ANOVAs\n",
    "## Written By: Steve Scherrer\n",
    "## Written on: 2 October 2020\n",
    "\n",
    "This project is intended to introduce the concept of ANOVA testing as an extension of linear models and t-tests.\n",
    "\n",
    "This document contains code to reproduce results from the keynote presentation 'LM/ANOVA teachback.keynote' and provides reference for visualizing and testing assumptions for both linear and ANOVA models."
   ]
  },
  {
   "cell_type": "code",
   "execution_count": 1,
   "metadata": {
    "ExecuteTime": {
     "end_time": "2020-10-07T21:04:09.491108Z",
     "start_time": "2020-10-07T21:04:06.941663Z"
    }
   },
   "outputs": [],
   "source": [
    "import pandas as pd\n",
    "import statsmodels.formula.api as smf\n",
    "import statsmodels.stats.diagnostic as smd\n",
    "import matplotlib.pyplot as plt\n",
    "from statsmodels.compat import lzip\n",
    "import scipy\n",
    "from plotnine import *"
   ]
  },
  {
   "cell_type": "markdown",
   "metadata": {},
   "source": [
    "### Load Data\n",
    "Dataset contains 3 columns corrosponding to the following:\n",
    " - y: Target Feature\n",
    " - x: Continuous Feature - For linear model\n",
    " - z: Categorical Feature - For ANOVA"
   ]
  },
  {
   "cell_type": "code",
   "execution_count": 2,
   "metadata": {
    "ExecuteTime": {
     "end_time": "2020-10-07T21:04:09.535937Z",
     "start_time": "2020-10-07T21:04:09.518952Z"
    }
   },
   "outputs": [
    {
     "data": {
      "text/html": [
       "<div>\n",
       "<style scoped>\n",
       "    .dataframe tbody tr th:only-of-type {\n",
       "        vertical-align: middle;\n",
       "    }\n",
       "\n",
       "    .dataframe tbody tr th {\n",
       "        vertical-align: top;\n",
       "    }\n",
       "\n",
       "    .dataframe thead th {\n",
       "        text-align: right;\n",
       "    }\n",
       "</style>\n",
       "<table border=\"1\" class=\"dataframe\">\n",
       "  <thead>\n",
       "    <tr style=\"text-align: right;\">\n",
       "      <th></th>\n",
       "      <th>y</th>\n",
       "      <th>x</th>\n",
       "      <th>z</th>\n",
       "    </tr>\n",
       "  </thead>\n",
       "  <tbody>\n",
       "    <tr>\n",
       "      <th>0</th>\n",
       "      <td>0.5</td>\n",
       "      <td>0.1</td>\n",
       "      <td>a</td>\n",
       "    </tr>\n",
       "    <tr>\n",
       "      <th>1</th>\n",
       "      <td>0.9</td>\n",
       "      <td>0.4</td>\n",
       "      <td>a</td>\n",
       "    </tr>\n",
       "    <tr>\n",
       "      <th>2</th>\n",
       "      <td>1.0</td>\n",
       "      <td>0.2</td>\n",
       "      <td>a</td>\n",
       "    </tr>\n",
       "    <tr>\n",
       "      <th>3</th>\n",
       "      <td>1.1</td>\n",
       "      <td>0.7</td>\n",
       "      <td>b</td>\n",
       "    </tr>\n",
       "    <tr>\n",
       "      <th>4</th>\n",
       "      <td>1.1</td>\n",
       "      <td>0.5</td>\n",
       "      <td>a</td>\n",
       "    </tr>\n",
       "  </tbody>\n",
       "</table>\n",
       "</div>"
      ],
      "text/plain": [
       "     y    x  z\n",
       "0  0.5  0.1  a\n",
       "1  0.9  0.4  a\n",
       "2  1.0  0.2  a\n",
       "3  1.1  0.7  b\n",
       "4  1.1  0.5  a"
      ]
     },
     "execution_count": 2,
     "metadata": {},
     "output_type": "execute_result"
    }
   ],
   "source": [
    "data = pd.read_csv('data.csv')\n",
    "data.head()"
   ]
  },
  {
   "cell_type": "code",
   "execution_count": 3,
   "metadata": {
    "ExecuteTime": {
     "end_time": "2020-10-07T21:04:09.807950Z",
     "start_time": "2020-10-07T21:04:09.567249Z"
    }
   },
   "outputs": [
    {
     "data": {
      "image/png": "[encoded data removed]",
      "text/plain": [
       "<Figure size 640x480 with 1 Axes>"
      ]
     },
     "metadata": {},
     "output_type": "display_data"
    },
    {
     "data": {
      "text/plain": [
       "<ggplot: (-9223363268747590133)>"
      ]
     },
     "execution_count": 3,
     "metadata": {},
     "output_type": "execute_result"
    }
   ],
   "source": [
    "## Plot x y relationship\n",
    "ggplot(data = data, mapping = aes(x = 'x', y = 'y')) + geom_point()"
   ]
  },
  {
   "cell_type": "code",
   "execution_count": 4,
   "metadata": {
    "ExecuteTime": {
     "end_time": "2020-10-07T21:04:09.868335Z",
     "start_time": "2020-10-07T21:04:09.842503Z"
    }
   },
   "outputs": [
    {
     "name": "stdout",
     "output_type": "stream",
     "text": [
      "                            OLS Regression Results                            \n",
      "==============================================================================\n",
      "Dep. Variable:                      y   R-squared:                       0.581\n",
      "Model:                            OLS   Adj. R-squared:                  0.529\n",
      "Method:                 Least Squares   F-statistic:                     11.11\n",
      "Date:                Wed, 07 Oct 2020   Prob (F-statistic):             0.0103\n",
      "Time:                        14:04:09   Log-Likelihood:               -0.14944\n",
      "No. Observations:                  10   AIC:                             4.299\n",
      "Df Residuals:                       8   BIC:                             4.904\n",
      "Df Model:                           1                                         \n",
      "Covariance Type:            nonrobust                                         \n",
      "==============================================================================\n",
      "                 coef    std err          t      P>|t|      [0.025      0.975]\n",
      "------------------------------------------------------------------------------\n",
      "Intercept      0.6014      0.208      2.896      0.020       0.123       1.080\n",
      "x              1.2829      0.385      3.333      0.010       0.395       2.170\n",
      "==============================================================================\n",
      "Omnibus:                        0.167   Durbin-Watson:                   1.591\n",
      "Prob(Omnibus):                  0.920   Jarque-Bera (JB):                0.352\n",
      "Skew:                           0.167   Prob(JB):                        0.839\n",
      "Kurtosis:                       2.144   Cond. No.                         5.54\n",
      "==============================================================================\n",
      "\n",
      "Warnings:\n",
      "[1] Standard Errors assume that the covariance matrix of the errors is correctly specified.\n"
     ]
    },
    {
     "name": "stderr",
     "output_type": "stream",
     "text": [
      "/Users/stephenscherrer/anaconda3/lib/python3.7/site-packages/scipy/stats/stats.py:1535: UserWarning: kurtosistest only valid for n>=20 ... continuing anyway, n=10\n",
      "  \"anyway, n=%i\" % int(n))\n"
     ]
    }
   ],
   "source": [
    "## Fitting linear model\n",
    "## Drop the Z column\n",
    "lm_data = data.drop(['z'], axis = 1)\n",
    "\n",
    "## Fit linear model\n",
    "linearMod = smf.ols('y ~ x', data = lm_data)\n",
    "linearModResults = linearMod.fit()\n",
    "\n",
    "## Print summary\n",
    "print(linearModResults.summary())"
   ]
  },
  {
   "cell_type": "code",
   "execution_count": 5,
   "metadata": {
    "ExecuteTime": {
     "end_time": "2020-10-07T21:04:11.021702Z",
     "start_time": "2020-10-07T21:04:10.768767Z"
    }
   },
   "outputs": [
    {
     "data": {
      "image/png": "[encoded data removed]",
      "text/plain": [
       "<Figure size 640x480 with 1 Axes>"
      ]
     },
     "metadata": {},
     "output_type": "display_data"
    },
    {
     "data": {
      "text/plain": [
       "<ggplot: (-9223363268747529163)>"
      ]
     },
     "execution_count": 5,
     "metadata": {},
     "output_type": "execute_result"
    }
   ],
   "source": [
    "### Plot model fit\n",
    "ggplot(data = lm_data, mapping = aes(x = 'x', y = 'y')) + geom_point() + geom_abline(intercept = linearModResults.params[0], slope = linearModResults.params[1], color = 'red') + labs(title = 'Linear Model Fit')\n"
   ]
  },
  {
   "cell_type": "markdown",
   "metadata": {},
   "source": [
    "### Validating assumptions - Normally distributed response variable"
   ]
  },
  {
   "cell_type": "code",
   "execution_count": 6,
   "metadata": {
    "ExecuteTime": {
     "end_time": "2020-10-07T21:04:12.594582Z",
     "start_time": "2020-10-07T21:04:12.318985Z"
    }
   },
   "outputs": [
    {
     "data": {
      "image/png": "[encoded data removed]",
      "text/plain": [
       "<Figure size 640x480 with 1 Axes>"
      ]
     },
     "metadata": {},
     "output_type": "display_data"
    },
    {
     "name": "stdout",
     "output_type": "stream",
     "text": [
      "<ggplot: (-9223363268747106535)>\n",
      "Shaprio-Wilk p-value = 0.83\n"
     ]
    }
   ],
   "source": [
    "## Visualizing response variable\n",
    "print(ggplot(data = lm_data, mapping = aes(x = 'y')) + geom_histogram(binwidth = 0.3) + labs(title = 'LM - Target Feature Distribution'))\n",
    "\n",
    "## Shapiro-wilks test for normality - H0: observations are drawn from a normal distribution\n",
    "sw_test = scipy.stats.shapiro(lm_data.y)\n",
    "print('Shaprio-Wilk p-value = '+ str(round(sw_test[1], 2)))"
   ]
  },
  {
   "cell_type": "markdown",
   "metadata": {},
   "source": [
    "Statistically we do not disprove the null hypothesis so we conclude that there is evidence our response variable is normally distributed. Visually we see that things could perhaps be better (but with so few observations, who knows? Data is messy) so if we cared, we could try transforming our response."
   ]
  },
  {
   "cell_type": "markdown",
   "metadata": {},
   "source": [
    "### Validating Assumptions - Normally Distributed Residuals"
   ]
  },
  {
   "cell_type": "code",
   "execution_count": 7,
   "metadata": {
    "ExecuteTime": {
     "end_time": "2020-10-07T21:04:14.597304Z",
     "start_time": "2020-10-07T21:04:14.292709Z"
    },
    "scrolled": true
   },
   "outputs": [
    {
     "data": {
      "image/png": "[encoded data removed]",
      "text/plain": [
       "<Figure size 640x480 with 1 Axes>"
      ]
     },
     "metadata": {},
     "output_type": "display_data"
    },
    {
     "data": {
      "text/plain": [
       "<ggplot: (-9223363268747501105)>"
      ]
     },
     "execution_count": 7,
     "metadata": {},
     "output_type": "execute_result"
    }
   ],
   "source": [
    "## Visualizing model residuals\n",
    "lm_data['residuals'] = linearModResults.resid\n",
    "ggplot(data = lm_data, mapping = aes(x = 'residuals')) + geom_histogram(binwidth = 0.3) + labs(title = 'LM - Residual Distribution')\n"
   ]
  },
  {
   "cell_type": "code",
   "execution_count": 8,
   "metadata": {
    "ExecuteTime": {
     "end_time": "2020-10-07T21:04:15.041021Z",
     "start_time": "2020-10-07T21:04:15.037689Z"
    }
   },
   "outputs": [
    {
     "name": "stdout",
     "output_type": "stream",
     "text": [
      "Shaprio-Wilk p-value = 0.85\n"
     ]
    }
   ],
   "source": [
    "## Testing assumption of normality with Shapiro-Wilk test\n",
    "    # Null hypothesis - Residuals are drawn from a normal distribution\n",
    "sw_test = scipy.stats.shapiro(lm_data.residuals)\n",
    "print('Shaprio-Wilk p-value = '+ str(round(sw_test[1], 2)))\n"
   ]
  },
  {
   "cell_type": "markdown",
   "metadata": {},
   "source": [
    "#### Validating Assumptions - Heteroskedacisity"
   ]
  },
  {
   "cell_type": "code",
   "execution_count": 9,
   "metadata": {
    "ExecuteTime": {
     "end_time": "2020-10-07T21:04:16.859670Z",
     "start_time": "2020-10-07T21:04:16.591798Z"
    }
   },
   "outputs": [
    {
     "data": {
      "image/png": "[encoded data removed]",
      "text/plain": [
       "<Figure size 640x480 with 1 Axes>"
      ]
     },
     "metadata": {},
     "output_type": "display_data"
    },
    {
     "name": "stdout",
     "output_type": "stream",
     "text": [
      "<ggplot: (-9223363268747106395)>\n",
      "p-value = 0.85\n"
     ]
    }
   ],
   "source": [
    "## Visualizing model residuals\n",
    "print(ggplot(data = lm_data, mapping = aes(y = 'residuals', x = 'x')) + geom_point() + geom_abline(slope = 0, intercept = 0, color = 'red') + labs(title = 'LM - Residual vs Fitted Values'))\n",
    "\n",
    "\n",
    "## Testing for Homoskedacicity with Breusch Pagan test\n",
    "    # Null hypothesis - Residuals are homoskedastic\n",
    "bp_test = smd.het_breuschpagan(linearModResults.resid, linearModResults.model.exog)\n",
    "print('p-value = ' + str(round(bp_test[3], 2)))\n"
   ]
  },
  {
   "cell_type": "markdown",
   "metadata": {},
   "source": [
    "### Fitting ANOVA model"
   ]
  },
  {
   "cell_type": "code",
   "execution_count": 10,
   "metadata": {
    "ExecuteTime": {
     "end_time": "2020-10-07T21:04:18.602615Z",
     "start_time": "2020-10-07T21:04:18.585931Z"
    }
   },
   "outputs": [
    {
     "name": "stdout",
     "output_type": "stream",
     "text": [
      "                            OLS Regression Results                            \n",
      "==============================================================================\n",
      "Dep. Variable:                      y   R-squared:                       0.434\n",
      "Model:                            OLS   Adj. R-squared:                  0.363\n",
      "Method:                 Least Squares   F-statistic:                     6.127\n",
      "Date:                Wed, 07 Oct 2020   Prob (F-statistic):             0.0384\n",
      "Time:                        14:04:18   Log-Likelihood:                -1.6598\n",
      "No. Observations:                  10   AIC:                             7.320\n",
      "Df Residuals:                       8   BIC:                             7.925\n",
      "Df Model:                           1                                         \n",
      "Covariance Type:            nonrobust                                         \n",
      "==============================================================================\n",
      "                 coef    std err          t      P>|t|      [0.025      0.975]\n",
      "------------------------------------------------------------------------------\n",
      "Intercept      0.9800      0.143      6.861      0.000       0.651       1.309\n",
      "z[T.b]         0.5000      0.202      2.475      0.038       0.034       0.966\n",
      "==============================================================================\n",
      "Omnibus:                        0.887   Durbin-Watson:                   1.642\n",
      "Prob(Omnibus):                  0.642   Jarque-Bera (JB):                0.670\n",
      "Skew:                          -0.287   Prob(JB):                        0.715\n",
      "Kurtosis:                       1.870   Cond. No.                         2.62\n",
      "==============================================================================\n",
      "\n",
      "Warnings:\n",
      "[1] Standard Errors assume that the covariance matrix of the errors is correctly specified.\n"
     ]
    },
    {
     "name": "stderr",
     "output_type": "stream",
     "text": [
      "/Users/stephenscherrer/anaconda3/lib/python3.7/site-packages/scipy/stats/stats.py:1535: UserWarning: kurtosistest only valid for n>=20 ... continuing anyway, n=10\n",
      "  \"anyway, n=%i\" % int(n))\n"
     ]
    }
   ],
   "source": [
    "## Drop the X column\n",
    "aov2_data = data.drop(['x'], axis = 1)\n",
    "\n",
    "## Fit linear model\n",
    "anova2Mod = smf.ols('y ~ z', data = aov2_data)\n",
    "anova2Results = anova2Mod.fit()\n",
    "\n",
    "## Print summary\n",
    "print(anova2Results.summary())"
   ]
  },
  {
   "cell_type": "markdown",
   "metadata": {},
   "source": [
    "Note that in this model, intercept is equivilant to the mean of the 'A' group while z[T.b] gives the coefficient associated with the 'B' group (denoted by '.b'). If we had additional groups, we would see additional terms for z[T.c] etc..."
   ]
  },
  {
   "cell_type": "code",
   "execution_count": 11,
   "metadata": {
    "ExecuteTime": {
     "end_time": "2020-10-07T21:04:22.832481Z",
     "start_time": "2020-10-07T21:04:22.447046Z"
    }
   },
   "outputs": [
    {
     "data": {
      "image/png": "[encoded data removed]",
      "text/plain": [
       "<Figure size 640x480 with 1 Axes>"
      ]
     },
     "metadata": {},
     "output_type": "display_data"
    },
    {
     "data": {
      "text/plain": [
       "<ggplot: (8768107996999)>"
      ]
     },
     "execution_count": 11,
     "metadata": {},
     "output_type": "execute_result"
    }
   ],
   "source": [
    "## Plot similar to those in slides\n",
    "ggplot(data = aov2_data, mapping = aes(x = 'z', y = 'y')) + geom_point()\n",
    "\n",
    "## Boxplot - How you should display this data\n",
    "ggplot(data = aov2_data, mapping = aes(x = 'z', y = 'y')) + geom_boxplot()"
   ]
  },
  {
   "cell_type": "markdown",
   "metadata": {},
   "source": [
    "### Validating Assumptions - Normally distributed response within groups"
   ]
  },
  {
   "cell_type": "code",
   "execution_count": 14,
   "metadata": {
    "ExecuteTime": {
     "end_time": "2020-10-07T21:04:46.894371Z",
     "start_time": "2020-10-07T21:04:46.383196Z"
    }
   },
   "outputs": [
    {
     "data": {
      "image/png": "[encoded data removed]",
      "text/plain": [
       "<Figure size 640x480 with 1 Axes>"
      ]
     },
     "metadata": {},
     "output_type": "display_data"
    },
    {
     "name": "stdout",
     "output_type": "stream",
     "text": [
      "<ggplot: (-9223363268747548903)>\n",
      "Shaprio-Wilk p-value [Group A] = 0.91\n"
     ]
    },
    {
     "data": {
      "image/png": "[encoded data removed]",
      "text/plain": [
       "<Figure size 640x480 with 1 Axes>"
      ]
     },
     "metadata": {},
     "output_type": "display_data"
    },
    {
     "name": "stdout",
     "output_type": "stream",
     "text": [
      "<ggplot: (-9223363268753640532)>\n",
      "Shaprio-Wilk p-value [Group B] = 0.33\n"
     ]
    }
   ],
   "source": [
    "#### Group A\n",
    "## Visualizing response variable - Or just use boxplot from above!!\n",
    "print(ggplot(data = aov2_data[(aov2_data.z == 'a')], mapping = aes(x = 'y')) + geom_histogram(binwidth = 0.3) + labs(title = 'ANOVA - Response Distribution - Group A'))\n",
    "\n",
    "## Shapiro-wilks test for normality - H0: observations are drawn from a normal distribution\n",
    "sw_test = scipy.stats.shapiro(aov2_data.y[(aov2_data.z == 'a')])\n",
    "print('Shaprio-Wilk p-value [Group A] = '+ str(round(sw_test[1], 2)))\n",
    "\n",
    "#### Group B\n",
    "## Visualizing response variable\n",
    "print(ggplot(data = aov2_data[(aov2_data.z == 'b')], mapping = aes(x = 'y')) + geom_histogram(binwidth = 0.3) + labs(title = 'ANOVA - Response Distribution - Group B'))\n",
    "\n",
    "## Shapiro-wilks test for normality - H0: observations are drawn from a normal distribution\n",
    "sw_test = scipy.stats.shapiro(aov2_data.y[(aov2_data.z == 'b')])\n",
    "print('Shaprio-Wilk p-value [Group B] = '+ str(round(sw_test[1], 2)))"
   ]
  },
  {
   "cell_type": "markdown",
   "metadata": {},
   "source": [
    "### Validating Assumptions - Normally Distributed Residuals"
   ]
  },
  {
   "cell_type": "code",
   "execution_count": 15,
   "metadata": {
    "ExecuteTime": {
     "end_time": "2020-10-07T21:04:59.099306Z",
     "start_time": "2020-10-07T21:04:58.807025Z"
    }
   },
   "outputs": [
    {
     "data": {
      "image/png": "[encoded data removed]",
      "text/plain": [
       "<Figure size 640x480 with 1 Axes>"
      ]
     },
     "metadata": {},
     "output_type": "display_data"
    },
    {
     "name": "stdout",
     "output_type": "stream",
     "text": [
      "<ggplot: (8768108238284)>\n",
      "Shaprio-Wilk p-value = 0.72\n"
     ]
    }
   ],
   "source": [
    "aov2_data['residuals'] = anova2Results.resid\n",
    "\n",
    "## Visualizing model residuals\n",
    "aov2_data['residuals'] = anova2Results.resid\n",
    "print(ggplot(data = aov2_data, mapping = aes(x = 'residuals')) + geom_histogram(binwidth = 0.3) + labs(title = 'ANOVA - Residual Distribution'))\n",
    "\n",
    "## Testing assumption of normality with Shapiro-Wilk test\n",
    "    # Null hypothesis - Residuals are drawn from a normal distribution\n",
    "sw_test = scipy.stats.shapiro(aov2_data.residuals)\n",
    "print('Shaprio-Wilk p-value = '+ str(round(sw_test[1], 2)))"
   ]
  },
  {
   "cell_type": "markdown",
   "metadata": {},
   "source": [
    "#### Validating Assumptions - Equal variance between groups"
   ]
  },
  {
   "cell_type": "code",
   "execution_count": 17,
   "metadata": {
    "ExecuteTime": {
     "end_time": "2020-10-07T21:05:05.874112Z",
     "start_time": "2020-10-07T21:05:05.668775Z"
    }
   },
   "outputs": [
    {
     "data": {
      "image/png": "[encoded data removed]",
      "text/plain": [
       "<Figure size 640x480 with 1 Axes>"
      ]
     },
     "metadata": {},
     "output_type": "display_data"
    },
    {
     "name": "stdout",
     "output_type": "stream",
     "text": [
      "<ggplot: (-9223363268746414511)>\n",
      "Variance between groups is less than 2x? True\n"
     ]
    }
   ],
   "source": [
    "## Visualizing Group variables\n",
    "print(ggplot(data = aov2_data, mapping = aes(y = 'residuals', x = 'z')) + geom_point() + geom_abline(slope = 0, intercept = 0, color = 'red') + labs(title = 'ANOVA - Observations by Group'))\n",
    "\n",
    "## Using rule of thumb for variance (difference between groups less than a factor of 2)\n",
    "group_vars = [np.var(aov2_data.y.loc[aov2_data.z == 'a']) , np.var(aov2_data.y.loc[aov2_data.z == 'b'])]\n",
    "print('Variance between groups is less than 2x? ' + str(max(group_vars) / min(group_vars) < 2))"
   ]
  },
  {
   "cell_type": "markdown",
   "metadata": {},
   "source": [
    "### Sidebar: Comparing ANOVA to a t-test\n",
    "A two way ANOVA is functionally the same as a T-test! Compare the test statistic and obtained below to the summary results from our OLS model!"
   ]
  },
  {
   "cell_type": "code",
   "execution_count": 18,
   "metadata": {
    "ExecuteTime": {
     "end_time": "2020-10-07T21:05:07.171706Z",
     "start_time": "2020-10-07T21:05:07.165499Z"
    }
   },
   "outputs": [
    {
     "data": {
      "text/plain": [
       "Ttest_indResult(statistic=-2.475368857441685, pvalue=0.03838779259171958)"
      ]
     },
     "execution_count": 18,
     "metadata": {},
     "output_type": "execute_result"
    }
   ],
   "source": [
    "scipy.stats.ttest_ind(a = aov2_data.y.loc[aov2_data.z == 'a'], b = aov2_data.y.loc[aov2_data.z == 'b'])"
   ]
  },
  {
   "cell_type": "markdown",
   "metadata": {},
   "source": [
    "## ANOVA with 3+ groups\n",
    "Now that you understand the theoretical underpinning of the two way ANOVA, it is trivial to extend it to 3 or more groups"
   ]
  },
  {
   "cell_type": "code",
   "execution_count": 19,
   "metadata": {
    "ExecuteTime": {
     "end_time": "2020-10-07T21:05:08.436380Z",
     "start_time": "2020-10-07T21:05:08.414049Z"
    },
    "scrolled": true
   },
   "outputs": [
    {
     "name": "stdout",
     "output_type": "stream",
     "text": [
      "     y  z  residuals\n",
      "0  0.5  a      -0.48\n",
      "1  0.9  a      -0.08\n",
      "2  1.0  a       0.02\n",
      "3  1.1  b      -0.38\n",
      "4  1.1  b       0.12\n",
      "5  1.2  b      -0.28\n",
      "6  1.4  a       0.42\n",
      "7  1.6  c       0.12\n",
      "8  1.7  c       0.22\n",
      "9  1.8  c       0.32\n",
      "                            OLS Regression Results                            \n",
      "==============================================================================\n",
      "Dep. Variable:                      y   R-squared:                       0.697\n",
      "Model:                            OLS   Adj. R-squared:                  0.610\n",
      "Method:                 Least Squares   F-statistic:                     8.050\n",
      "Date:                Wed, 07 Oct 2020   Prob (F-statistic):             0.0153\n",
      "Time:                        14:05:08   Log-Likelihood:                 1.4665\n",
      "No. Observations:                  10   AIC:                             3.067\n",
      "Df Residuals:                       7   BIC:                             3.975\n",
      "Df Model:                           2                                         \n",
      "Covariance Type:            nonrobust                                         \n",
      "==============================================================================\n",
      "                 coef    std err          t      P>|t|      [0.025      0.975]\n",
      "------------------------------------------------------------------------------\n",
      "Intercept      0.9500      0.125      7.607      0.000       0.655       1.245\n",
      "z[T.b]         0.1833      0.191      0.961      0.369      -0.268       0.634\n",
      "z[T.c]         0.7500      0.191      3.932      0.006       0.299       1.201\n",
      "==============================================================================\n",
      "Omnibus:                        3.862   Durbin-Watson:                   1.503\n",
      "Prob(Omnibus):                  0.145   Jarque-Bera (JB):                0.719\n",
      "Skew:                           0.002   Prob(JB):                        0.698\n",
      "Kurtosis:                       4.313   Cond. No.                         3.46\n",
      "==============================================================================\n",
      "\n",
      "Warnings:\n",
      "[1] Standard Errors assume that the covariance matrix of the errors is correctly specified.\n"
     ]
    },
    {
     "name": "stderr",
     "output_type": "stream",
     "text": [
      "/Users/stephenscherrer/anaconda3/lib/python3.7/site-packages/ipykernel_launcher.py:2: SettingWithCopyWarning: \n",
      "A value is trying to be set on a copy of a slice from a DataFrame\n",
      "\n",
      "See the caveats in the documentation: http://pandas.pydata.org/pandas-docs/stable/user_guide/indexing.html#returning-a-view-versus-a-copy\n",
      "  \n",
      "/Users/stephenscherrer/anaconda3/lib/python3.7/site-packages/ipykernel_launcher.py:3: SettingWithCopyWarning: \n",
      "A value is trying to be set on a copy of a slice from a DataFrame\n",
      "\n",
      "See the caveats in the documentation: http://pandas.pydata.org/pandas-docs/stable/user_guide/indexing.html#returning-a-view-versus-a-copy\n",
      "  This is separate from the ipykernel package so we can avoid doing imports until\n",
      "/Users/stephenscherrer/anaconda3/lib/python3.7/site-packages/scipy/stats/stats.py:1535: UserWarning: kurtosistest only valid for n>=20 ... continuing anyway, n=10\n",
      "  \"anyway, n=%i\" % int(n))\n"
     ]
    }
   ],
   "source": [
    "aov3_data = aov2_data\n",
    "aov3_data['z'][4] = 'b'\n",
    "aov3_data['z'][7:10] = 'c'\n",
    "print(aov3_data)\n",
    "\n",
    "## Fit linear model\n",
    "anova3Mod = smf.ols('y ~ z', data = aov3_data)\n",
    "anova3Results = anova3Mod.fit()\n",
    "\n",
    "## Print summary\n",
    "print(anova3Results.summary())"
   ]
  },
  {
   "cell_type": "markdown",
   "metadata": {},
   "source": [
    "Interpertation: Treatment group C is significantly different from group A but group B is not."
   ]
  },
  {
   "cell_type": "markdown",
   "metadata": {},
   "source": [
    "### Multivariate Modeling with continuous and descrete features\n",
    "We can combine continuous and descrete features to create models in the same model"
   ]
  },
  {
   "cell_type": "code",
   "execution_count": 20,
   "metadata": {
    "ExecuteTime": {
     "end_time": "2020-10-07T21:05:09.749890Z",
     "start_time": "2020-10-07T21:05:09.732533Z"
    }
   },
   "outputs": [
    {
     "name": "stdout",
     "output_type": "stream",
     "text": [
      "                            OLS Regression Results                            \n",
      "==============================================================================\n",
      "Dep. Variable:                      y   R-squared:                       0.689\n",
      "Model:                            OLS   Adj. R-squared:                  0.601\n",
      "Method:                 Least Squares   F-statistic:                     7.764\n",
      "Date:                Wed, 07 Oct 2020   Prob (F-statistic):             0.0167\n",
      "Time:                        14:05:09   Log-Likelihood:                 1.3412\n",
      "No. Observations:                  10   AIC:                             3.318\n",
      "Df Residuals:                       7   BIC:                             4.225\n",
      "Df Model:                           2                                         \n",
      "Covariance Type:            nonrobust                                         \n",
      "==============================================================================\n",
      "                 coef    std err          t      P>|t|      [0.025      0.975]\n",
      "------------------------------------------------------------------------------\n",
      "Intercept      0.6098      0.191      3.188      0.015       0.157       1.062\n",
      "z[T.b]         0.2857      0.183      1.559      0.163      -0.148       0.719\n",
      "x              0.9742      0.406      2.399      0.048       0.014       1.934\n",
      "==============================================================================\n",
      "Omnibus:                        3.309   Durbin-Watson:                   2.061\n",
      "Prob(Omnibus):                  0.191   Jarque-Bera (JB):                1.107\n",
      "Skew:                          -0.802   Prob(JB):                        0.575\n",
      "Kurtosis:                       3.287   Cond. No.                         6.96\n",
      "==============================================================================\n",
      "\n",
      "Warnings:\n",
      "[1] Standard Errors assume that the covariance matrix of the errors is correctly specified.\n"
     ]
    }
   ],
   "source": [
    "## Fitting multivariate linear model\n",
    "mvlMod = smf.ols('y ~ x + z', data = data)\n",
    "mvlModResults = mvlMod.fit()\n",
    "\n",
    "## Print summary\n",
    "print(mvlModResults.summary())"
   ]
  },
  {
   "cell_type": "markdown",
   "metadata": {},
   "source": [
    "In the above summary, the intercept term is again relative to one of our factor levels. You would want to check all of the same assumptions as before"
   ]
  },
  {
   "cell_type": "markdown",
   "metadata": {},
   "source": [
    "#### Bonus: Interaction Terms\n",
    "Features are not always additive. Sometimes interactions between two or more features can have different outcomes than they would on their own. Think about a plant that needs nutrients and light. Without light, no amount of nutrients will cause the plant to grow. With both light and nutrients, the plant goes gangbusters. We can account for this phenomena using interaction terms"
   ]
  },
  {
   "cell_type": "code",
   "execution_count": 21,
   "metadata": {
    "ExecuteTime": {
     "end_time": "2020-10-07T21:05:10.952395Z",
     "start_time": "2020-10-07T21:05:10.933658Z"
    }
   },
   "outputs": [
    {
     "name": "stdout",
     "output_type": "stream",
     "text": [
      "                            OLS Regression Results                            \n",
      "==============================================================================\n",
      "Dep. Variable:                      y   R-squared:                       0.712\n",
      "Model:                            OLS   Adj. R-squared:                  0.568\n",
      "Method:                 Least Squares   F-statistic:                     4.952\n",
      "Date:                Wed, 07 Oct 2020   Prob (F-statistic):             0.0461\n",
      "Time:                        14:05:10   Log-Likelihood:                 1.7265\n",
      "No. Observations:                  10   AIC:                             4.547\n",
      "Df Residuals:                       6   BIC:                             5.757\n",
      "Df Model:                           3                                         \n",
      "Covariance Type:            nonrobust                                         \n",
      "==============================================================================\n",
      "                 coef    std err          t      P>|t|      [0.025      0.975]\n",
      "------------------------------------------------------------------------------\n",
      "Intercept      0.5167      0.240      2.153      0.075      -0.070       1.104\n",
      "z[T.b]         0.5883      0.476      1.235      0.263      -0.577       1.754\n",
      "x              1.2193      0.550      2.215      0.069      -0.128       2.566\n",
      "x:z[T.b]      -0.5943      0.857     -0.693      0.514      -2.692       1.503\n",
      "==============================================================================\n",
      "Omnibus:                        1.580   Durbin-Watson:                   2.017\n",
      "Prob(Omnibus):                  0.454   Jarque-Bera (JB):                0.528\n",
      "Skew:                          -0.561   Prob(JB):                        0.768\n",
      "Kurtosis:                       2.911   Cond. No.                         16.4\n",
      "==============================================================================\n",
      "\n",
      "Warnings:\n",
      "[1] Standard Errors assume that the covariance matrix of the errors is correctly specified.\n"
     ]
    }
   ],
   "source": [
    "## Fitting multivariate linear model with interaction term\n",
    "mvlMod = smf.ols('y ~ x * z', data = data)\n",
    "mvlModResults = mvlMod.fit()\n",
    "\n",
    "## Print summary\n",
    "print(mvlModResults.summary())"
   ]
  },
  {
   "cell_type": "markdown",
   "metadata": {},
   "source": [
    "However, in this model the interaction is not significant and should be removed and the model refit (unless you have a really good reason for keeping it in)"
   ]
  },
  {
   "cell_type": "markdown",
   "metadata": {},
   "source": [
    "#### Bonus: Identifying outliers\n",
    "We talked about how outlier values can skew model estimates in a previous daily discussion. Here is code to extract usefull metrics from our model fit."
   ]
  },
  {
   "cell_type": "code",
   "execution_count": 22,
   "metadata": {
    "ExecuteTime": {
     "end_time": "2020-10-07T21:05:12.232819Z",
     "start_time": "2020-10-07T21:05:12.220889Z"
    }
   },
   "outputs": [],
   "source": [
    "### Model Diagnostics\n",
    "## Looking for outliers \n",
    "# create instance of influence\n",
    "influence = mvlModResults.get_influence()\n",
    "#leverage (hat values)\n",
    "leverage = influence.hat_matrix_diag\n",
    "#Cook's D values (and p-values) as tuple of arrays\n",
    "cooks_d = influence.cooks_distance\n",
    "#standardized residuals\n",
    "standardized_residuals = influence.resid_studentized_internal\n",
    "#studentized residuals\n",
    "studentized_residuals = influence.resid_studentized_external"
   ]
  },
  {
   "cell_type": "code",
   "execution_count": null,
   "metadata": {},
   "outputs": [],
   "source": []
  }
 ],
 "metadata": {
  "kernelspec": {
   "display_name": "Python 3",
   "language": "python",
   "name": "python3"
  },
  "language_info": {
   "codemirror_mode": {
    "name": "ipython",
    "version": 3
   },
   "file_extension": ".py",
   "mimetype": "text/x-python",
   "name": "python",
   "nbconvert_exporter": "python",
   "pygments_lexer": "ipython3",
   "version": "3.7.1"
  },
  "toc": {
   "base_numbering": 1,
   "nav_menu": {},
   "number_sections": true,
   "sideBar": true,
   "skip_h1_title": false,
   "title_cell": "Table of Contents",
   "title_sidebar": "Contents",
   "toc_cell": false,
   "toc_position": {},
   "toc_section_display": true,
   "toc_window_display": false
  },
  "varInspector": {
   "cols": {
    "lenName": 16,
    "lenType": 16,
    "lenVar": 40
   },
   "kernels_config": {
    "python": {
     "delete_cmd_postfix": "",
     "delete_cmd_prefix": "del ",
     "library": "var_list.py",
     "varRefreshCmd": "print(var_dic_list())"
    },
    "r": {
     "delete_cmd_postfix": ") ",
     "delete_cmd_prefix": "rm(",
     "library": "var_list.r",
     "varRefreshCmd": "cat(var_dic_list()) "
    }
   },
   "types_to_exclude": [
    "module",
    "function",
    "builtin_function_or_method",
    "instance",
    "_Feature"
   ],
   "window_display": false
  }
 },
 "nbformat": 4,
 "nbformat_minor": 2
}
